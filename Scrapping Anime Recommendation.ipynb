{
 "cells": [
  {
   "cell_type": "code",
   "execution_count": 1,
   "metadata": {},
   "outputs": [],
   "source": [
    "import bs4\n",
    "from urllib.request import urlopen as uReq\n",
    "from bs4 import BeautifulSoup as soup\n",
    "import pandas as pd"
   ]
  },
  {
   "cell_type": "code",
   "execution_count": 53,
   "metadata": {},
   "outputs": [],
   "source": [
    "# webpage information\n",
    "base_url = 'https://myanimelist.net/recommendations.php?s=recentrecs&t=anime&show='\n",
    "pages = 20    # sebenarnya pagesnya ada banyak banget tapi cukupkan 20 dulu"
   ]
  },
  {
   "cell_type": "code",
   "execution_count": 54,
   "metadata": {},
   "outputs": [],
   "source": [
    "# array to store information\n",
    "anime_base = []\n",
    "anime_recommendation = []\n",
    "anime_reason = []\n",
    "anime_power = []"
   ]
  },
  {
   "cell_type": "code",
   "execution_count": 55,
   "metadata": {},
   "outputs": [],
   "source": [
    "# the script to capture data for each pages\n",
    "for i in range(pages) :\n",
    "    temp_url = base_url + str(i*100)\n",
    "    \n",
    "    # connect and download html webpage\n",
    "    uClient = uReq(temp_url)\n",
    "    page_html = uClient.read()\n",
    "    uClient.close()\n",
    "    page_soup = soup(page_html, \"html.parser\")\n",
    "    \n",
    "    # search for base anime and recommended anime rows\n",
    "    animes = page_soup.findAll(\"div\", {\"class\": \"spaceit borderClass\"})\n",
    "\n",
    "    # select the title for anime base and recommendation and the reason, then put into given arrays\n",
    "    for i in range(len(animes)) :\n",
    "        anime_in_row = animes[i].table.tr.findAll(\"td\")\n",
    "        base_container = anime_in_row[0]\n",
    "        recommendation_container = anime_in_row[1]\n",
    "\n",
    "        title_base = base_container.findAll(\"a\")[1][\"title\"]\n",
    "        title_recommendation = recommendation_container.findAll(\"a\")[1].strong.text\n",
    "        reason = animes[i].findAll(\"div\",{\"class\": \"spaceit recommendations-user-recs-text\"})[0].text.strip()\n",
    "\n",
    "        # put the information to arrays\n",
    "        sudah_ada = True\n",
    "        if title_base not in anime_base :\n",
    "            anime_base.append(title_base)\n",
    "            anime_recommendation.append([])\n",
    "            anime_reason.append([])\n",
    "            anime_power.append([])\n",
    "        idx = anime_base.index(title_base)\n",
    "        if title_recommendation not in anime_recommendation[idx] :\n",
    "            anime_recommendation[idx].append(title_recommendation)\n",
    "            anime_reason[idx].append(reason)\n",
    "            anime_power[idx].append(1)\n",
    "            sudah_ada = False\n",
    "        if (sudah_ada) :\n",
    "            idx_rec = anime_recommendation[idx].index(title_recommendation)\n",
    "            anime_power[idx][idx_rec] += 1"
   ]
  },
  {
   "cell_type": "code",
   "execution_count": 73,
   "metadata": {},
   "outputs": [],
   "source": [
    "# save to csv\n",
    "df = pd.DataFrame({\n",
    "    'Anime' : anime_base,\n",
    "    'Recommendation': anime_recommendation,\n",
    "    'Reasoning': anime_reason,\n",
    "    'Recommendation Power': anime_power\n",
    "})\n",
    "\n",
    "df.to_csv(\"Anime Recommendation.csv\", index = False)"
   ]
  },
  {
   "cell_type": "raw",
   "metadata": {},
   "source": []
  }
 ],
 "metadata": {
  "kernelspec": {
   "display_name": "Python 3",
   "language": "python",
   "name": "python3"
  },
  "language_info": {
   "codemirror_mode": {
    "name": "ipython",
    "version": 3
   },
   "file_extension": ".py",
   "mimetype": "text/x-python",
   "name": "python",
   "nbconvert_exporter": "python",
   "pygments_lexer": "ipython3",
   "version": "3.6.8"
  }
 },
 "nbformat": 4,
 "nbformat_minor": 2
}
